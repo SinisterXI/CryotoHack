{
  "nbformat": 4,
  "nbformat_minor": 0,
  "metadata": {
    "colab": {
      "provenance": []
    },
    "kernelspec": {
      "name": "python3",
      "display_name": "Python 3"
    },
    "language_info": {
      "name": "python"
    }
  },
  "cells": [
    {
      "cell_type": "markdown",
      "source": [
        "# **Encoding**"
      ],
      "metadata": {
        "id": "wIs507HzUY3_"
      }
    },
    {
      "cell_type": "markdown",
      "source": [
        "# **ASCII**"
      ],
      "metadata": {
        "id": "hCodtM2Lbsdy"
      }
    },
    {
      "cell_type": "markdown",
      "source": [
        "## 1. Import the chr() function:"
      ],
      "metadata": {
        "id": "h-qQoE2uS-I3"
      }
    },
    {
      "cell_type": "code",
      "execution_count": null,
      "metadata": {
        "id": "3Bz_ZFBNSns9"
      },
      "outputs": [],
      "source": [
        "# Import the chr() function\n",
        "from builtins import chr"
      ]
    },
    {
      "cell_type": "markdown",
      "source": [
        "## 2. Define the integer array:"
      ],
      "metadata": {
        "id": "dHSUZ7RtS_tk"
      }
    },
    {
      "cell_type": "code",
      "source": [
        "# Define the integer array\n",
        "integer_array = [99, 114, 121, 112, 116, 111, 123, 65, 83, 67, 73, 73, 95, 112, 114, 49, 110, 116, 52, 98, 108, 51, 125]"
      ],
      "metadata": {
        "id": "Xv1_no12S_TE"
      },
      "execution_count": null,
      "outputs": []
    },
    {
      "cell_type": "markdown",
      "source": [
        "## 3. Convert the integers to ASCII characters and join them:"
      ],
      "metadata": {
        "id": "BmamfAj8TFjc"
      }
    },
    {
      "cell_type": "code",
      "source": [
        "# Convert the integers to ASCII characters and join them\n",
        "flag = ''.join(chr(i) for i in integer_array)\n",
        "\n",
        "# Print the flag\n",
        "print(flag)"
      ],
      "metadata": {
        "colab": {
          "base_uri": "https://localhost:8080/"
        },
        "id": "bqOWd9gpTFAp",
        "outputId": "ca3110f3-a1b3-4ba6-bb5b-08cd16aeb94d"
      },
      "execution_count": null,
      "outputs": [
        {
          "output_type": "stream",
          "name": "stdout",
          "text": [
            "crypto{ASCII_pr1nt4bl3}\n"
          ]
        }
      ]
    },
    {
      "cell_type": "markdown",
      "source": [
        "# **HEX**"
      ],
      "metadata": {
        "id": "HpiaEkdpbv2Y"
      }
    },
    {
      "cell_type": "markdown",
      "source": [
        "## 1. Import the bytes.fromhex() function:"
      ],
      "metadata": {
        "id": "Hz_lnTpuUAiP"
      }
    },
    {
      "source": [
        "# Import the bytes.fromhex() function\n",
        "from builtins import bytes"
      ],
      "cell_type": "code",
      "metadata": {
        "id": "9bwcFYFFT5b0"
      },
      "execution_count": null,
      "outputs": []
    },
    {
      "cell_type": "markdown",
      "source": [
        "## 2. Define the hexadecimal string:"
      ],
      "metadata": {
        "id": "bY-cOIAaUBRa"
      }
    },
    {
      "source": [
        "# Define the hexadecimal string\n",
        "hex_string = \"63727970746f7b596f755f77696c6c5f62655f776f726b696e675f776974685f6865785f737472696e67735f615f6c6f747d\""
      ],
      "cell_type": "code",
      "metadata": {
        "id": "NWKiTXIrT72x"
      },
      "execution_count": null,
      "outputs": []
    },
    {
      "cell_type": "markdown",
      "source": [
        "## 3. Convert the hexadecimal string to bytes\n",
        "\n"
      ],
      "metadata": {
        "id": "slQesvb5UFt4"
      }
    },
    {
      "source": [
        "# Convert the hexadecimal string to bytes\n",
        "byte_data = bytes.fromhex(hex_string)"
      ],
      "cell_type": "code",
      "metadata": {
        "id": "a5vNHX1jT8Xn"
      },
      "execution_count": null,
      "outputs": []
    },
    {
      "cell_type": "markdown",
      "source": [
        "## 4. Decode the bytes to a string:"
      ],
      "metadata": {
        "id": "a1cSCUU1UGrb"
      }
    },
    {
      "source": [
        "# Decode the bytes to a string\n",
        "flag = byte_data.decode(\"ascii\")\n",
        "\n",
        "# Print the flag\n",
        "print(flag)"
      ],
      "cell_type": "code",
      "metadata": {
        "colab": {
          "base_uri": "https://localhost:8080/"
        },
        "id": "-lug2k3iT82j",
        "outputId": "464a0383-f4cb-4a55-f905-91d09b0f2ef2"
      },
      "execution_count": null,
      "outputs": [
        {
          "output_type": "stream",
          "name": "stdout",
          "text": [
            "crypto{You_will_be_working_with_hex_strings_a_lot}\n"
          ]
        }
      ]
    },
    {
      "cell_type": "markdown",
      "source": [
        "# **Base64**"
      ],
      "metadata": {
        "id": "BjcYXAT-b1Cz"
      }
    },
    {
      "cell_type": "markdown",
      "source": [
        "## 1. Import the base64 module:"
      ],
      "metadata": {
        "id": "PAvxKkFfU-cZ"
      }
    },
    {
      "cell_type": "code",
      "source": [
        "import base64"
      ],
      "metadata": {
        "id": "5761IykZUyOP"
      },
      "execution_count": null,
      "outputs": []
    },
    {
      "cell_type": "markdown",
      "source": [
        "## 2. Define the hexadecimal string:"
      ],
      "metadata": {
        "id": "hqVB9TDYVFax"
      }
    },
    {
      "source": [
        "hex_string = \"72bca9b68fc16ac7beeb8f849dca1d8a783e8acf9679bf9269f7bf\""
      ],
      "cell_type": "code",
      "metadata": {
        "id": "kvLW2BSKU69r"
      },
      "execution_count": null,
      "outputs": []
    },
    {
      "cell_type": "markdown",
      "source": [
        "## 3. Convert the hexadecimal string to bytes:"
      ],
      "metadata": {
        "id": "RGNWzqgPVI2Z"
      }
    },
    {
      "source": [
        "byte_data = bytes.fromhex(hex_string)\n",
        "base64_data = base64.b64encode(byte_data)"
      ],
      "cell_type": "code",
      "metadata": {
        "id": "KeImQQ8jU7a5"
      },
      "execution_count": null,
      "outputs": []
    },
    {
      "cell_type": "markdown",
      "source": [
        "## 4. Encode the bytes to Base64:"
      ],
      "metadata": {
        "id": "r5OgCuNEVK-l"
      }
    },
    {
      "source": [
        "base64_string = base64_data.decode(\"ascii\")\n",
        "\n",
        "# Print the Base64 string\n",
        "print(base64_string)"
      ],
      "cell_type": "code",
      "metadata": {
        "colab": {
          "base_uri": "https://localhost:8080/"
        },
        "id": "ZU6oNA0vU7_S",
        "outputId": "3c9a1262-5a53-474d-e5d9-4b5103cda1ae"
      },
      "execution_count": null,
      "outputs": [
        {
          "output_type": "stream",
          "name": "stdout",
          "text": [
            "crypto/Base+64+Encoding+is+Web+Safe/\n"
          ]
        }
      ]
    },
    {
      "cell_type": "markdown",
      "source": [
        "# **Bytes and Big Integers**"
      ],
      "metadata": {
        "id": "nGCXBnCwb6X8"
      }
    },
    {
      "cell_type": "markdown",
      "source": [
        "## 1. Import necessary functions:"
      ],
      "metadata": {
        "id": "wJQ7i-EnV6Kn"
      }
    },
    {
      "source": [
        "from Crypto.Util.number import bytes_to_long, long_to_bytes"
      ],
      "cell_type": "code",
      "metadata": {
        "id": "HgXPOsLpV2qE"
      },
      "execution_count": null,
      "outputs": []
    },
    {
      "cell_type": "markdown",
      "source": [
        "## 2. Define the integer:"
      ],
      "metadata": {
        "id": "nlUw9ZUXWjuq"
      }
    },
    {
      "cell_type": "code",
      "source": [
        "number = 11515195063862318899931685488813747395775516287289682636499965282714637259206269"
      ],
      "metadata": {
        "id": "kq5AVmxzWbOZ"
      },
      "execution_count": null,
      "outputs": []
    },
    {
      "cell_type": "markdown",
      "source": [
        "## 3. Convert the integer to bytes:"
      ],
      "metadata": {
        "id": "wejij59jWmE5"
      }
    },
    {
      "source": [
        "byte_data = long_to_bytes(number)"
      ],
      "cell_type": "code",
      "metadata": {
        "id": "kuU-QuDOWdQU"
      },
      "execution_count": null,
      "outputs": []
    },
    {
      "cell_type": "markdown",
      "source": [
        "## 4. Decode the bytes to a string:"
      ],
      "metadata": {
        "id": "OEUtuvJXWoi-"
      }
    },
    {
      "source": [
        "message = byte_data.decode(\"ascii\")  # Assuming the message is ASCII encoded\n",
        "\n",
        "print(f\"Message: {message}\")"
      ],
      "cell_type": "code",
      "metadata": {
        "colab": {
          "base_uri": "https://localhost:8080/"
        },
        "id": "3uT--q8wWd_K",
        "outputId": "43e936c0-e156-4511-f1ee-d68f9c9c7338"
      },
      "execution_count": null,
      "outputs": [
        {
          "output_type": "stream",
          "name": "stdout",
          "text": [
            "Message: crypto{3nc0d1n6_4ll_7h3_w4y_d0wn}\n"
          ]
        }
      ]
    },
    {
      "cell_type": "markdown",
      "source": [
        "# **XOR**"
      ],
      "metadata": {
        "id": "FS7P1gwtf7Tp"
      }
    },
    {
      "cell_type": "markdown",
      "source": [
        "# **XOR Starter**"
      ],
      "metadata": {
        "id": "MlEgfwyBgSFz"
      }
    },
    {
      "cell_type": "code",
      "source": [
        "string = \"label\"\n",
        "integer = 13\n",
        "\n",
        "unicode_repr = [ord(c) for c in string]\n",
        "xor_unicode = [13 ^ i for i in unicode_repr]\n",
        "xor_string = \"\".join(chr(o) for o in xor_unicode)\n",
        "\n",
        "flag = \"crypto{\" + xor_string + \"}\"\n",
        "print(\"Flag:\")\n",
        "print(flag)"
      ],
      "metadata": {
        "colab": {
          "base_uri": "https://localhost:8080/"
        },
        "id": "Wl61m2LTf9U8",
        "outputId": "ae8287e6-2958-41d1-8938-6bd1de081bd9"
      },
      "execution_count": null,
      "outputs": [
        {
          "output_type": "stream",
          "name": "stdout",
          "text": [
            "Flag:\n",
            "crypto{aloha}\n"
          ]
        }
      ]
    },
    {
      "cell_type": "markdown",
      "source": [
        "# **XOR Properties**"
      ],
      "metadata": {
        "id": "PAIzZtrRgUG9"
      }
    },
    {
      "cell_type": "code",
      "source": [
        "k1 = \"a6c8b6733c9b22de7bc0253266a3867df55acde8635e19c73313\"\n",
        "k2_k1 = \"37dcb292030faa90d07eec17e3b1c6d8daf94c35d4c9191a5e1e\"\n",
        "k2_k3 = \"c1545756687e7573db23aa1c3452a098b71a7fbf0fddddde5fc1\"\n",
        "flag_k1_k3_k2 = \"04ee9855208a2cd59091d04767ae47963170d1660df7f56f5faf\"\n",
        "\n",
        "k1_ord = [o for o in bytes.fromhex(k1)]\n",
        "k2_k3_ord = [o for o in bytes.fromhex(k2_k3)]\n",
        "flag_k1_k3_k2_ord = [o for o in bytes.fromhex(flag_k1_k3_k2)]\n",
        "\n",
        "flag_k1_ord = [\n",
        "    o_f132 ^ o23 for (o_f132, o23) in zip(flag_k1_k3_k2_ord, k2_k3_ord)\n",
        "]\n",
        "flag_ord = [o_f1 ^ o1 for (o_f1, o1) in zip(flag_k1_ord, k1_ord)]\n",
        "flag = \"\".join(chr(o) for o in flag_ord)\n",
        "\n",
        "print(\"Flag:\")\n",
        "print(flag)\n"
      ],
      "metadata": {
        "colab": {
          "base_uri": "https://localhost:8080/"
        },
        "id": "Ed9h-O-nggZt",
        "outputId": "88ef0470-1405-495c-d76a-533a9b6d38f4"
      },
      "execution_count": null,
      "outputs": [
        {
          "output_type": "stream",
          "name": "stdout",
          "text": [
            "Flag:\n",
            "crypto{x0r_i5_ass0c1at1v3}\n"
          ]
        }
      ]
    },
    {
      "cell_type": "markdown",
      "source": [
        "# **Favourite Byte**"
      ],
      "metadata": {
        "id": "D1rPFCAuhEzJ"
      }
    },
    {
      "cell_type": "code",
      "source": [
        "string = \"73626960647f6b206821204f21254f7d694f7624662065622127234f726927756d\"\n",
        "\n",
        "string_ord = [o for o in bytes.fromhex(string)]\n",
        "for order in range(256):\n",
        "    possible_flag_ord = [order ^ o for o in string_ord]\n",
        "    possible_flag = \"\".join(chr(o) for o in possible_flag_ord)\n",
        "    if possible_flag.startswith(\"crypto\"):\n",
        "        flag = possible_flag\n",
        "        break\n",
        "\n",
        "print(\"Flag:\")\n",
        "print(flag)"
      ],
      "metadata": {
        "colab": {
          "base_uri": "https://localhost:8080/"
        },
        "id": "gEJvdfBkhSqg",
        "outputId": "87c2f05a-fc3b-41aa-8e83-94b787ce5813"
      },
      "execution_count": null,
      "outputs": [
        {
          "output_type": "stream",
          "name": "stdout",
          "text": [
            "Flag:\n",
            "crypto{0x10_15_my_f4v0ur173_by7e}\n"
          ]
        }
      ]
    },
    {
      "cell_type": "markdown",
      "source": [
        "# **You Either Know, XOR You Dont**"
      ],
      "metadata": {
        "id": "BehQIR3ChZM-"
      }
    },
    {
      "cell_type": "code",
      "source": [
        "encrypted_msg = \"0e0b213f26041e480b26217f27342e175d0e070a3c5b103e2526217f27342e175d0e077e263451150104\"\n",
        "encrypted_msg = bytes.fromhex(encrypted_msg)\n",
        "\n",
        "flag_format = b\"crypto{\"\n",
        "key = [o1 ^ o2\n",
        "       for (o1, o2) in zip(encrypted_msg, flag_format)] + [ord(\"y\")]\n",
        "\n",
        "flag = []\n",
        "key_len = len(key)\n",
        "for i in range(len(encrypted_msg)):\n",
        "    flag.append(\n",
        "        encrypted_msg[i] ^ key[i % key_len]\n",
        "    )\n",
        "flag = \"\".join(chr(o) for o in flag)\n",
        "\n",
        "print(\"Flag:\")\n",
        "print(flag)"
      ],
      "metadata": {
        "colab": {
          "base_uri": "https://localhost:8080/"
        },
        "id": "hNNKqLehhhYc",
        "outputId": "c2f9edde-34de-4dfb-fc64-53278d9ba841"
      },
      "execution_count": null,
      "outputs": [
        {
          "output_type": "stream",
          "name": "stdout",
          "text": [
            "Flag:\n",
            "crypto{1f_y0u_Kn0w_En0uGH_y0u_Kn0w_1t_4ll}\n"
          ]
        }
      ]
    },
    {
      "cell_type": "markdown",
      "source": [
        "# **Mathematics**"
      ],
      "metadata": {
        "id": "0IUDL7jPlmRT"
      }
    },
    {
      "cell_type": "markdown",
      "source": [
        "# **Greatest Common Divisor**"
      ],
      "metadata": {
        "id": "8BNd1lUtmBMW"
      }
    },
    {
      "cell_type": "code",
      "source": [
        "def gcd(a, b):\n",
        "    while b != 0:\n",
        "        a, b = b, a % b\n",
        "    return a\n",
        "\n",
        "# Given numbers\n",
        "a = 66528\n",
        "b = 52920\n",
        "\n",
        "# Calculate GCD\n",
        "result = gcd(a, b)\n",
        "\n",
        "print(f\"The GCD of {a} and {b} is: {result}\")\n"
      ],
      "metadata": {
        "colab": {
          "base_uri": "https://localhost:8080/"
        },
        "id": "wwjhOrJDmJMz",
        "outputId": "a390de38-ccce-4268-a1a9-f01de8fbed1a"
      },
      "execution_count": null,
      "outputs": [
        {
          "output_type": "stream",
          "name": "stdout",
          "text": [
            "The GCD of 66528 and 52920 is: 1512\n"
          ]
        }
      ]
    },
    {
      "cell_type": "markdown",
      "source": [
        "# **Extended GCD**"
      ],
      "metadata": {
        "id": "yT4usbkqmWi7"
      }
    },
    {
      "cell_type": "code",
      "source": [
        "def extended_gcd(a, b):\n",
        "    # Extended Euclidean Algorithm\n",
        "    old_r, r = a, b\n",
        "    old_s, s = 1, 0\n",
        "    old_t, t = 0, 1\n",
        "\n",
        "    while r != 0:\n",
        "        quotient = old_r // r\n",
        "        old_r, r = r, old_r - quotient * r\n",
        "        old_s, s = s, old_s - quotient * s\n",
        "        old_t, t = t, old_t - quotient * t\n",
        "\n",
        "    return old_r, old_s, old_t\n",
        "\n",
        "# Given values\n",
        "p = 26513\n",
        "q = 32321\n",
        "\n",
        "# Get the GCD and coefficients u, v\n",
        "gcd_value, u, v = extended_gcd(p, q)\n",
        "\n",
        "# Print the results\n",
        "print(f\"The GCD is: {gcd_value}\")\n",
        "print(f\"u: {u}, v: {v}\")\n",
        "print(f\"The lower of u and v is: {min(u, v)}\")\n"
      ],
      "metadata": {
        "colab": {
          "base_uri": "https://localhost:8080/"
        },
        "id": "Ts-ysoPamXi5",
        "outputId": "33cbc9f5-4951-4d81-b398-1ed85fe0086a"
      },
      "execution_count": null,
      "outputs": [
        {
          "output_type": "stream",
          "name": "stdout",
          "text": [
            "The GCD is: 1\n",
            "u: 10245, v: -8404\n",
            "The lower of u and v is: -8404\n"
          ]
        }
      ]
    },
    {
      "cell_type": "markdown",
      "source": [
        "# **Modular Arithmetic 1**"
      ],
      "metadata": {
        "id": "gI1Ig5v9moRJ"
      }
    },
    {
      "cell_type": "code",
      "source": [
        "# Function to compute modular arithmetic\n",
        "def modular_arithmetic(a, m):\n",
        "    return a % m\n",
        "\n",
        "# Given values\n",
        "a1 = 11\n",
        "m1 = 6\n",
        "\n",
        "a2 = 8146798528947\n",
        "m2 = 17\n",
        "\n",
        "# Calculate the results of the modular arithmetic\n",
        "x = modular_arithmetic(a1, m1)\n",
        "y = modular_arithmetic(a2, m2)\n",
        "\n",
        "# Output the smaller of x and y\n",
        "result = min(x, y)\n",
        "\n",
        "# Print the result\n",
        "print(f\"The smaller of x and y is: {result}\")\n"
      ],
      "metadata": {
        "colab": {
          "base_uri": "https://localhost:8080/"
        },
        "id": "0rSVLMkPmqB6",
        "outputId": "d19a0d30-654b-487e-8984-897dce957ef7"
      },
      "execution_count": null,
      "outputs": [
        {
          "output_type": "stream",
          "name": "stdout",
          "text": [
            "The smaller of x and y is: 4\n"
          ]
        }
      ]
    },
    {
      "cell_type": "markdown",
      "source": [
        "# **Modular Arithmetic 2**"
      ],
      "metadata": {
        "id": "cevRexmbm5Dd"
      }
    },
    {
      "cell_type": "code",
      "source": [
        "# Function to calculate the modulus of a number with a prime modulus\n",
        "def calculate_modulus(a, p):\n",
        "    return a % p\n",
        "\n",
        "# Given values\n",
        "p1 = 17\n",
        "p2 = 65537\n",
        "\n",
        "a1 = 317\n",
        "a2 = 517\n",
        "a3 = 716\n",
        "a4 = 27324678765465536\n",
        "\n",
        "# Calculating moduli for the given numbers\n",
        "result1 = calculate_modulus(a1, p1)\n",
        "result2 = calculate_modulus(a2, p1)\n",
        "result3 = calculate_modulus(a3, p1)\n",
        "result4 = calculate_modulus(a4, p2)\n",
        "\n",
        "# Printing the results\n",
        "print(f\"317 mod 17 = {result1}\")\n",
        "print(f\"517 mod 17 = {result2}\")\n",
        "print(f\"716 mod 17 = {result3}\")\n",
        "print(f\"27324678765465536 mod 65537 = {result4}\")\n",
        "\n",
        "print(\"FLAG =\", 1)\n"
      ],
      "metadata": {
        "colab": {
          "base_uri": "https://localhost:8080/"
        },
        "id": "TxsmmbRjm6mv",
        "outputId": "647c45a9-e89f-4fbe-ba76-5179d50322a2"
      },
      "execution_count": null,
      "outputs": [
        {
          "output_type": "stream",
          "name": "stdout",
          "text": [
            "317 mod 17 = 11\n",
            "517 mod 17 = 7\n",
            "716 mod 17 = 2\n",
            "27324678765465536 mod 65537 = 22427\n",
            "FLAG = 1\n"
          ]
        }
      ]
    },
    {
      "cell_type": "markdown",
      "source": [
        "# **Modular Inverting**"
      ],
      "metadata": {
        "id": "lk007BNAnvnu"
      }
    },
    {
      "cell_type": "code",
      "source": [
        "element = 3\n",
        "modulo = 13\n",
        "\n",
        "print(\"FLAG =\", (3 ** (modulo - 2)) % 13)"
      ],
      "metadata": {
        "colab": {
          "base_uri": "https://localhost:8080/"
        },
        "id": "oP6Jor-_nucR",
        "outputId": "f5a00701-5cfe-4ce3-de3d-7c1e2030f576"
      },
      "execution_count": null,
      "outputs": [
        {
          "output_type": "stream",
          "name": "stdout",
          "text": [
            "FLAG = 9\n"
          ]
        }
      ]
    }
  ]
}